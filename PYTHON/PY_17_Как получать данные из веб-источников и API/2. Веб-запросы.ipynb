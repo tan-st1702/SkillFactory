{
 "cells": [
  {
   "cell_type": "markdown",
   "metadata": {},
   "source": [
    "Процесс получения/извлечения информации с веб-ресурсов в интернете называется **web-scraping** (рус. веб-скрейпинг/веб-скрапинг). Веб-скрапинг может быть проделан вручную пользователем компьютера, однако этот термин обычно связывают с автоматизированными процессами, реализованными с помощью кода."
   ]
  },
  {
   "cell_type": "markdown",
   "metadata": {},
   "source": [
    "### МЕТОДЫ ЗАПРОСОВ В ПРОТОКОЛЕ HTTP"
   ]
  },
  {
   "cell_type": "markdown",
   "metadata": {},
   "source": [
    "> Для того чтобы указать серверу на то, какое действие мы хотим произвести с ресурсом, в протоколе HTTP используются так называемые **методы**. В HTTP существует несколько методов, которые описывают действия с ресурсами. Чаще всего используются `GET` и `POST`."
   ]
  },
  {
   "cell_type": "markdown",
   "metadata": {},
   "source": [
    "**Пример GET-запроса**, отправляемого через адресную строку браузера:\n",
    "\n",
    " http://site.ru/page.php?name=dima&age=27"
   ]
  },
  {
   "cell_type": "markdown",
   "metadata": {},
   "source": [
    "**Пример POST-запроса**, отправляемого через форму запроса:\n",
    "\n",
    "POST / HTTP/1.0\\r\\n <br>\n",
    "**`Host: www.site.ru\\r\\n`** <br>\n",
    "**`Referer: http://www.site.ru/index.html\\r\\n`** <br>\n",
    "**`Cookie: income=1\\r\\n`** <br>\n",
    "**`Content-Type: application/x-www-form-urlencoded\\r\\n`** <br>\n",
    "**`Content-Length: 35\\r\\n`** <br>\n",
    "\\r\\n <br>\n",
    "login=Dima&password=12345"
   ]
  },
  {
   "cell_type": "code",
   "execution_count": null,
   "metadata": {},
   "outputs": [],
   "source": []
  }
 ],
 "metadata": {
  "language_info": {
   "name": "python"
  }
 },
 "nbformat": 4,
 "nbformat_minor": 2
}
