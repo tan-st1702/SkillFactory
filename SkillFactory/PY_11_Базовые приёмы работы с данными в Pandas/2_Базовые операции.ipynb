{
 "cells": [
  {
   "cell_type": "code",
   "execution_count": null,
   "metadata": {},
   "outputs": [],
   "source": [
    "import pandas as pd\n",
    "\n",
    "melb_data = pd.read_csv('data/melb_data_ps.csv', sep=',')\n",
    "melb_data.head()"
   ]
  },
  {
   "attachments": {},
   "cell_type": "markdown",
   "metadata": {},
   "source": [
    "index — номер строки<br>\n",
    "Suburb — наименование пригорода<br>\n",
    "Address — адрес<br>\n",
    "Rooms — количество комнат в помещении<br>\n",
    "Type — тип здания (h — дом, коттедж, вилла, терраса; u — блочный, дуплексный дом; t — таунхаус)<br>\n",
    "Price — цена помещения<br>\n",
    "Method — метод продажи <br>\n",
    "SellerG — риэлторская компания<br>\n",
    "Date — дата продажи (в формате день/месяц/год)<br>\n",
    "Distance — расстояния до объекта от центра Мельбурна <br>\n",
    "Postcode — почтовый индекс<br>\n",
    "Bedroom — количество спален<br>\n",
    "Bathroom — количество ванных комнат<br>\n",
    "Car — количество парковочных мест<br>\n",
    "Landsize — площадь прилегающей территории<br>\n",
    "BuildingArea — площадь здания<br>\n",
    "YearBuilt — год постройки<br>\n",
    "CouncilArea — региональное управление<br>\n",
    "Lattitude — географическая широта<br>\n",
    "Longitude — географическая долгота<br>\n",
    "Regionname — наименование района Мельбурна<br>\n",
    "Propertycount — количество объектов недвижимости в районе, выставленных на продажу<br>\n",
    "Coordinates — широта и долгота, объединённые в кортеж<br>"
   ]
  },
  {
   "cell_type": "code",
   "execution_count": null,
   "metadata": {},
   "outputs": [],
   "source": [
    "melb_df = melb_data.copy()\n",
    "melb_df.head()"
   ]
  },
  {
   "attachments": {},
   "cell_type": "markdown",
   "metadata": {},
   "source": [
    "Удаление столбцов - drop():\n",
    "\n",
    "labels — порядковые номера или имена столбцов, которые подлежат удалению; если их несколько, то передаётся список;<br>\n",
    "axis — ось совершения операции, axis=0 — удаляются строки, axis=1 — удаляются столбцы;<br>\n",
    "inplace — если параметр выставлен на True, происходит замена изначального DataFrame на новый, при этом метод ничего не возвращает; если на False — возвращается копия DataFrame, из которой удалены указанные строки (столбцы), при этом первоначальный DataFrame не изменяется; по умолчанию параметр равен False."
   ]
  },
  {
   "cell_type": "code",
   "execution_count": null,
   "metadata": {},
   "outputs": [],
   "source": [
    "melb_df = melb_df.drop(['index', 'Coordinates'], axis=1)\n",
    "melb_df.head()"
   ]
  },
  {
   "cell_type": "code",
   "execution_count": null,
   "metadata": {},
   "outputs": [],
   "source": [
    "melb_df = melb_df.drop(['index', 'Coordinates'], axis=1)\n",
    "melb_df.head()"
   ]
  }
 ],
 "metadata": {
  "kernelspec": {
   "display_name": "Python 3",
   "language": "python",
   "name": "python3"
  },
  "language_info": {
   "codemirror_mode": {
    "name": "ipython",
    "version": 3
   },
   "file_extension": ".py",
   "mimetype": "text/x-python",
   "name": "python",
   "nbconvert_exporter": "python",
   "pygments_lexer": "ipython3",
   "version": "3.10.11"
  },
  "orig_nbformat": 4
 },
 "nbformat": 4,
 "nbformat_minor": 2
}
