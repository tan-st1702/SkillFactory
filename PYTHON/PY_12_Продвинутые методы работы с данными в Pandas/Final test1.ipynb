{
 "cells": [
  {
   "cell_type": "code",
   "execution_count": null,
   "metadata": {},
   "outputs": [],
   "source": [
    "import pandas as pd\n",
    "import re\n",
    "\n",
    "ratings_movies = pd.read_csv('data/ratings_movies.csv')\n",
    "ratings_movies['date'] = pd.to_datetime(ratings_movies['date'])\n",
    "\n",
    "def get_year_release(arg):\n",
    "    #находим все слова по шаблону \"(DDDD)\"\n",
    "    candidates = re.findall(r'\\(\\d{4}\\)', arg) \n",
    "    # проверяем число вхождений\n",
    "    if len(candidates) > 0:\n",
    "        #если число вхождений больше 0,\n",
    "\t#очищаем строку от знаков \"(\" и \")\"\n",
    "        year = candidates[0].replace('(', '')\n",
    "        year = year.replace(')', '')\n",
    "        return int(year)\n",
    "    else:\n",
    "        #если год не указан, возвращаем None\n",
    "        return None"
   ]
  },
  {
   "cell_type": "code",
   "execution_count": 14,
   "metadata": {},
   "outputs": [
    {
     "name": "stdout",
     "output_type": "stream",
     "text": [
      "<class 'pandas.core.frame.DataFrame'>\n",
      "RangeIndex: 100836 entries, 0 to 100835\n",
      "Data columns (total 9 columns):\n",
      " #   Column        Non-Null Count   Dtype         \n",
      "---  ------        --------------   -----         \n",
      " 0   Unnamed: 0    100836 non-null  int64         \n",
      " 1   userId        100836 non-null  int64         \n",
      " 2   movieId       100836 non-null  int64         \n",
      " 3   rating        100836 non-null  float64       \n",
      " 4   date          100836 non-null  datetime64[ns]\n",
      " 5   title         100836 non-null  object        \n",
      " 6   genres        100836 non-null  object        \n",
      " 7   year_release  100818 non-null  float64       \n",
      " 8   year_rating   100836 non-null  int32         \n",
      "dtypes: datetime64[ns](1), float64(2), int32(1), int64(3), object(2)\n",
      "memory usage: 6.5+ MB\n"
     ]
    }
   ],
   "source": [
    "# Создайте в таблице новый признак year_release, который соответствует году выпуска фильма.\n",
    "# У скольких фильмов не указан год их выпуска?\n",
    "\n",
    "ratings_movies['year_release'] = ratings_movies['title'].apply(get_year_release)\n",
    "ratings_movies.info()"
   ]
  },
  {
   "cell_type": "code",
   "execution_count": null,
   "metadata": {},
   "outputs": [],
   "source": [
    "# Какой фильм, выпущенный в 1999 году, получил наименьшую среднюю оценку зрителей?\n",
    "\n",
    "ratings_movies[ratings_movies['year_release'] == 1999].groupby('title')['rating'].mean().sort_values()"
   ]
  },
  {
   "cell_type": "code",
   "execution_count": null,
   "metadata": {},
   "outputs": [],
   "source": [
    "# Какое сочетание жанров фильмов (genres), выпущенных в 2010 году, \n",
    "# получило наименьшую среднюю оценку (rating)?\n",
    "\n",
    "ratings_movies[ratings_movies['year_release'] == 2010].groupby('genres')['rating'].mean().sort_values()"
   ]
  },
  {
   "cell_type": "code",
   "execution_count": null,
   "metadata": {},
   "outputs": [],
   "source": [
    "# Какой пользователь (userId) посмотрел наибольшее количество различных \n",
    "# (уникальных) комбинаций жанров (genres) фильмов?\n",
    "\n",
    "ratings_movies.groupby('userId')['genres'].nunique().sort_values()"
   ]
  },
  {
   "cell_type": "code",
   "execution_count": null,
   "metadata": {},
   "outputs": [],
   "source": [
    "# Найдите пользователя, который выставил наименьшее количество оценок, \n",
    "# но его средняя оценка фильмам наибольшая.\n",
    "\n",
    "ratings_movies.groupby('userId')['rating'].agg(['count','max']).sort_values(\n",
    "    by=['count','max'],\n",
    "    ascending=[True,False]\n",
    ")"
   ]
  },
  {
   "cell_type": "code",
   "execution_count": null,
   "metadata": {},
   "outputs": [],
   "source": [
    "# Найдите сочетание жанров (genres) за 2018 год, которое имеет наибольший средний \n",
    "# рейтинг (среднее по столбцу rating), и при этом число выставленных ему оценок \n",
    "# (количество значений в столбце rating) больше 10.\n",
    "\n",
    "mask = ratings_movies['year_release'] == 2018\n",
    "\n",
    "ratings_movies[mask].groupby('genres')['rating'].agg(['mean','count']).sort_values(\n",
    "    by=['mean','count'],\n",
    "    ascending=[False, True]\n",
    ")"
   ]
  },
  {
   "cell_type": "code",
   "execution_count": 51,
   "metadata": {},
   "outputs": [
    {
     "data": {
      "text/html": [
       "<div>\n",
       "<style scoped>\n",
       "    .dataframe tbody tr th:only-of-type {\n",
       "        vertical-align: middle;\n",
       "    }\n",
       "\n",
       "    .dataframe tbody tr th {\n",
       "        vertical-align: top;\n",
       "    }\n",
       "\n",
       "    .dataframe thead th {\n",
       "        text-align: right;\n",
       "    }\n",
       "</style>\n",
       "<table border=\"1\" class=\"dataframe\">\n",
       "  <thead>\n",
       "    <tr style=\"text-align: right;\">\n",
       "      <th>year_rating</th>\n",
       "      <th>1996</th>\n",
       "      <th>1997</th>\n",
       "      <th>1998</th>\n",
       "      <th>1999</th>\n",
       "      <th>2000</th>\n",
       "      <th>2001</th>\n",
       "      <th>2002</th>\n",
       "      <th>2003</th>\n",
       "      <th>2004</th>\n",
       "      <th>2005</th>\n",
       "      <th>2006</th>\n",
       "      <th>2007</th>\n",
       "      <th>2008</th>\n",
       "      <th>2009</th>\n",
       "      <th>2010</th>\n",
       "      <th>2011</th>\n",
       "      <th>2012</th>\n",
       "      <th>2013</th>\n",
       "      <th>2014</th>\n",
       "      <th>2015</th>\n",
       "      <th>2016</th>\n",
       "      <th>2017</th>\n",
       "      <th>2018</th>\n",
       "    </tr>\n",
       "    <tr>\n",
       "      <th>genres</th>\n",
       "      <th></th>\n",
       "      <th></th>\n",
       "      <th></th>\n",
       "      <th></th>\n",
       "      <th></th>\n",
       "      <th></th>\n",
       "      <th></th>\n",
       "      <th></th>\n",
       "      <th></th>\n",
       "      <th></th>\n",
       "      <th></th>\n",
       "      <th></th>\n",
       "      <th></th>\n",
       "      <th></th>\n",
       "      <th></th>\n",
       "      <th></th>\n",
       "      <th></th>\n",
       "      <th></th>\n",
       "      <th></th>\n",
       "      <th></th>\n",
       "      <th></th>\n",
       "      <th></th>\n",
       "      <th></th>\n",
       "    </tr>\n",
       "  </thead>\n",
       "  <tbody>\n",
       "    <tr>\n",
       "      <th>Comedy</th>\n",
       "      <td>3.228571</td>\n",
       "      <td>3.409091</td>\n",
       "      <td>3.0</td>\n",
       "      <td>3.606061</td>\n",
       "      <td>3.141291</td>\n",
       "      <td>3.318408</td>\n",
       "      <td>3.198556</td>\n",
       "      <td>3.120066</td>\n",
       "      <td>3.356877</td>\n",
       "      <td>2.963325</td>\n",
       "      <td>3.347534</td>\n",
       "      <td>2.928187</td>\n",
       "      <td>3.426667</td>\n",
       "      <td>3.273292</td>\n",
       "      <td>3.179825</td>\n",
       "      <td>3.232877</td>\n",
       "      <td>3.478477</td>\n",
       "      <td>3.489474</td>\n",
       "      <td>3.271429</td>\n",
       "      <td>3.106183</td>\n",
       "      <td>3.373431</td>\n",
       "      <td>2.852668</td>\n",
       "      <td>3.121296</td>\n",
       "    </tr>\n",
       "  </tbody>\n",
       "</table>\n",
       "</div>"
      ],
      "text/plain": [
       "year_rating      1996      1997  1998      1999      2000      2001      2002  \\\n",
       "genres                                                                          \n",
       "Comedy       3.228571  3.409091   3.0  3.606061  3.141291  3.318408  3.198556   \n",
       "\n",
       "year_rating      2003      2004      2005      2006      2007      2008  \\\n",
       "genres                                                                    \n",
       "Comedy       3.120066  3.356877  2.963325  3.347534  2.928187  3.426667   \n",
       "\n",
       "year_rating      2009      2010      2011      2012      2013      2014  \\\n",
       "genres                                                                    \n",
       "Comedy       3.273292  3.179825  3.232877  3.478477  3.489474  3.271429   \n",
       "\n",
       "year_rating      2015      2016      2017      2018  \n",
       "genres                                               \n",
       "Comedy       3.106183  3.373431  2.852668  3.121296  "
      ]
     },
     "metadata": {},
     "output_type": "display_data"
    }
   ],
   "source": [
    "ratings_movies['year_rating'] = ratings_movies['date'].dt.year\n",
    "\n",
    "pd.set_option('display.max_columns', None)\n",
    "pd.set_option('display.max_rows', None)\n",
    "\n",
    "mask = ratings_movies['genres'] == 'Comedy'\n",
    "\n",
    "res = ratings_movies.pivot_table(\n",
    "    values='rating',\n",
    "    index='genres',\n",
    "    columns='year_rating',\n",
    "    aggfunc='mean'\n",
    ")\n",
    "display(res[res.index == 'Comedy'])"
   ]
  }
 ],
 "metadata": {
  "kernelspec": {
   "display_name": "Python 3",
   "language": "python",
   "name": "python3"
  },
  "language_info": {
   "codemirror_mode": {
    "name": "ipython",
    "version": 3
   },
   "file_extension": ".py",
   "mimetype": "text/x-python",
   "name": "python",
   "nbconvert_exporter": "python",
   "pygments_lexer": "ipython3",
   "version": "3.10.11"
  },
  "orig_nbformat": 4
 },
 "nbformat": 4,
 "nbformat_minor": 2
}
