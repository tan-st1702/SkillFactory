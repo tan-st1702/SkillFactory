{
 "cells": [
  {
   "cell_type": "code",
   "execution_count": null,
   "metadata": {},
   "outputs": [],
   "source": [
    "import pandas as pd\n",
    "melb_data = pd.read_csv('data/melb_data.csv', sep=',')"
   ]
  },
  {
   "attachments": {},
   "cell_type": "markdown",
   "metadata": {},
   "source": [
    "Создадим маску и положим её в переменную с именем mask. Синтаксис очень прост:"
   ]
  },
  {
   "cell_type": "code",
   "execution_count": null,
   "metadata": {},
   "outputs": [],
   "source": [
    "mask = melb_data['Price'] > 2000000\n",
    "display(mask)"
   ]
  },
  {
   "attachments": {},
   "cell_type": "markdown",
   "metadata": {},
   "source": [
    "Для фильтрации нужно просто подставить переменную mask в индексацию DataFrame. Маска показывает, какие строки нужно оставлять в результирующем наборе, а какие — убирать (выведем первые пять строк отфильтрованной таблицы):"
   ]
  },
  {
   "cell_type": "code",
   "execution_count": 4,
   "metadata": {},
   "outputs": [
    {
     "data": {
      "text/html": [
       "<div>\n",
       "<style scoped>\n",
       "    .dataframe tbody tr th:only-of-type {\n",
       "        vertical-align: middle;\n",
       "    }\n",
       "\n",
       "    .dataframe tbody tr th {\n",
       "        vertical-align: top;\n",
       "    }\n",
       "\n",
       "    .dataframe thead th {\n",
       "        text-align: right;\n",
       "    }\n",
       "</style>\n",
       "<table border=\"1\" class=\"dataframe\">\n",
       "  <thead>\n",
       "    <tr style=\"text-align: right;\">\n",
       "      <th></th>\n",
       "      <th>index</th>\n",
       "      <th>Suburb</th>\n",
       "      <th>Address</th>\n",
       "      <th>Rooms</th>\n",
       "      <th>Type</th>\n",
       "      <th>Price</th>\n",
       "      <th>Method</th>\n",
       "      <th>SellerG</th>\n",
       "      <th>Date</th>\n",
       "      <th>Distance</th>\n",
       "      <th>...</th>\n",
       "      <th>Car</th>\n",
       "      <th>Landsize</th>\n",
       "      <th>BuildingArea</th>\n",
       "      <th>YearBuilt</th>\n",
       "      <th>CouncilArea</th>\n",
       "      <th>Lattitude</th>\n",
       "      <th>Longtitude</th>\n",
       "      <th>Regionname</th>\n",
       "      <th>Propertycount</th>\n",
       "      <th>Coordinates</th>\n",
       "    </tr>\n",
       "  </thead>\n",
       "  <tbody>\n",
       "    <tr>\n",
       "      <th>80</th>\n",
       "      <td>80</td>\n",
       "      <td>Albert Park</td>\n",
       "      <td>112 Beaconsfield Pde</td>\n",
       "      <td>3</td>\n",
       "      <td>h</td>\n",
       "      <td>2850000.0</td>\n",
       "      <td>PI</td>\n",
       "      <td>Buxton</td>\n",
       "      <td>4/03/2017</td>\n",
       "      <td>3.3</td>\n",
       "      <td>...</td>\n",
       "      <td>0.0</td>\n",
       "      <td>211.0</td>\n",
       "      <td>198.0</td>\n",
       "      <td>1890.0</td>\n",
       "      <td>Port Phillip</td>\n",
       "      <td>-37.8481</td>\n",
       "      <td>144.9499</td>\n",
       "      <td>Southern Metropolitan</td>\n",
       "      <td>3280.0</td>\n",
       "      <td>-37.8481, 144.9499</td>\n",
       "    </tr>\n",
       "    <tr>\n",
       "      <th>85</th>\n",
       "      <td>85</td>\n",
       "      <td>Albert Park</td>\n",
       "      <td>104 Richardson St</td>\n",
       "      <td>4</td>\n",
       "      <td>h</td>\n",
       "      <td>2300000.0</td>\n",
       "      <td>S</td>\n",
       "      <td>Marshall</td>\n",
       "      <td>7/05/2016</td>\n",
       "      <td>3.3</td>\n",
       "      <td>...</td>\n",
       "      <td>1.0</td>\n",
       "      <td>153.0</td>\n",
       "      <td>180.0</td>\n",
       "      <td>1880.0</td>\n",
       "      <td>Port Phillip</td>\n",
       "      <td>-37.8447</td>\n",
       "      <td>144.9523</td>\n",
       "      <td>Southern Metropolitan</td>\n",
       "      <td>3280.0</td>\n",
       "      <td>-37.8447, 144.9523</td>\n",
       "    </tr>\n",
       "    <tr>\n",
       "      <th>88</th>\n",
       "      <td>88</td>\n",
       "      <td>Albert Park</td>\n",
       "      <td>29 Faussett St</td>\n",
       "      <td>2</td>\n",
       "      <td>h</td>\n",
       "      <td>2120000.0</td>\n",
       "      <td>S</td>\n",
       "      <td>Greg</td>\n",
       "      <td>10/09/2016</td>\n",
       "      <td>3.3</td>\n",
       "      <td>...</td>\n",
       "      <td>1.0</td>\n",
       "      <td>199.0</td>\n",
       "      <td>107.0</td>\n",
       "      <td>1900.0</td>\n",
       "      <td>Port Phillip</td>\n",
       "      <td>-37.8422</td>\n",
       "      <td>144.9554</td>\n",
       "      <td>Southern Metropolitan</td>\n",
       "      <td>3280.0</td>\n",
       "      <td>-37.8422, 144.9554</td>\n",
       "    </tr>\n",
       "    <tr>\n",
       "      <th>92</th>\n",
       "      <td>92</td>\n",
       "      <td>Albert Park</td>\n",
       "      <td>2 Dundas Pl</td>\n",
       "      <td>3</td>\n",
       "      <td>h</td>\n",
       "      <td>2615000.0</td>\n",
       "      <td>S</td>\n",
       "      <td>Cayzer</td>\n",
       "      <td>10/12/2016</td>\n",
       "      <td>3.3</td>\n",
       "      <td>...</td>\n",
       "      <td>1.0</td>\n",
       "      <td>177.0</td>\n",
       "      <td>181.0</td>\n",
       "      <td>1880.0</td>\n",
       "      <td>Port Phillip</td>\n",
       "      <td>-37.8415</td>\n",
       "      <td>144.9585</td>\n",
       "      <td>Southern Metropolitan</td>\n",
       "      <td>3280.0</td>\n",
       "      <td>-37.8415, 144.9585</td>\n",
       "    </tr>\n",
       "    <tr>\n",
       "      <th>93</th>\n",
       "      <td>93</td>\n",
       "      <td>Albert Park</td>\n",
       "      <td>23 Finlay St</td>\n",
       "      <td>5</td>\n",
       "      <td>h</td>\n",
       "      <td>2100000.0</td>\n",
       "      <td>S</td>\n",
       "      <td>Greg</td>\n",
       "      <td>10/12/2016</td>\n",
       "      <td>3.3</td>\n",
       "      <td>...</td>\n",
       "      <td>1.0</td>\n",
       "      <td>237.0</td>\n",
       "      <td>126.0</td>\n",
       "      <td>1970.0</td>\n",
       "      <td>Port Phillip</td>\n",
       "      <td>-37.8436</td>\n",
       "      <td>144.9557</td>\n",
       "      <td>Southern Metropolitan</td>\n",
       "      <td>3280.0</td>\n",
       "      <td>-37.8436, 144.9557</td>\n",
       "    </tr>\n",
       "  </tbody>\n",
       "</table>\n",
       "<p>5 rows × 23 columns</p>\n",
       "</div>"
      ],
      "text/plain": [
       "    index       Suburb               Address  Rooms Type      Price Method  \\\n",
       "80     80  Albert Park  112 Beaconsfield Pde      3    h  2850000.0     PI   \n",
       "85     85  Albert Park     104 Richardson St      4    h  2300000.0      S   \n",
       "88     88  Albert Park        29 Faussett St      2    h  2120000.0      S   \n",
       "92     92  Albert Park           2 Dundas Pl      3    h  2615000.0      S   \n",
       "93     93  Albert Park          23 Finlay St      5    h  2100000.0      S   \n",
       "\n",
       "     SellerG        Date  Distance  ...  Car  Landsize  BuildingArea  \\\n",
       "80    Buxton   4/03/2017       3.3  ...  0.0     211.0         198.0   \n",
       "85  Marshall   7/05/2016       3.3  ...  1.0     153.0         180.0   \n",
       "88      Greg  10/09/2016       3.3  ...  1.0     199.0         107.0   \n",
       "92    Cayzer  10/12/2016       3.3  ...  1.0     177.0         181.0   \n",
       "93      Greg  10/12/2016       3.3  ...  1.0     237.0         126.0   \n",
       "\n",
       "    YearBuilt   CouncilArea  Lattitude  Longtitude             Regionname  \\\n",
       "80     1890.0  Port Phillip   -37.8481    144.9499  Southern Metropolitan   \n",
       "85     1880.0  Port Phillip   -37.8447    144.9523  Southern Metropolitan   \n",
       "88     1900.0  Port Phillip   -37.8422    144.9554  Southern Metropolitan   \n",
       "92     1880.0  Port Phillip   -37.8415    144.9585  Southern Metropolitan   \n",
       "93     1970.0  Port Phillip   -37.8436    144.9557  Southern Metropolitan   \n",
       "\n",
       "    Propertycount         Coordinates  \n",
       "80         3280.0  -37.8481, 144.9499  \n",
       "85         3280.0  -37.8447, 144.9523  \n",
       "88         3280.0  -37.8422, 144.9554  \n",
       "92         3280.0  -37.8415, 144.9585  \n",
       "93         3280.0  -37.8436, 144.9557  \n",
       "\n",
       "[5 rows x 23 columns]"
      ]
     },
     "metadata": {},
     "output_type": "display_data"
    }
   ],
   "source": [
    "display(melb_data[mask].head())"
   ]
  },
  {
   "cell_type": "code",
   "execution_count": null,
   "metadata": {},
   "outputs": [],
   "source": [
    "melb_data[melb_data['Price'] > 2000000]"
   ]
  },
  {
   "attachments": {},
   "cell_type": "markdown",
   "metadata": {},
   "source": [
    "Найдём количество зданий с тремя комнатами. Для этого отфильтруем таблицу по условию: обратимся к результирующей таблице по столбцу Rooms и найдём число строк в ней с помощью атрибута shape:"
   ]
  },
  {
   "cell_type": "code",
   "execution_count": null,
   "metadata": {},
   "outputs": [],
   "source": [
    "melb_data[melb_data['Rooms'] == 3].shape[0]"
   ]
  },
  {
   "attachments": {},
   "cell_type": "markdown",
   "metadata": {},
   "source": [
    "Усложним прошлый пример и найдём число трёхкомнатных домов с ценой менее 300 тысяч:"
   ]
  },
  {
   "cell_type": "code",
   "execution_count": null,
   "metadata": {},
   "outputs": [],
   "source": [
    "print(melb_data[(melb_data['Rooms'] == 3) & (melb_data['Price'] < 300000)].shape[0])\n",
    "\n",
    "print(melb_data[((melb_data['Rooms'] == 3) | (melb_data['BuildingArea'] > 100)) & (melb_data['Price'] < 300000)].shape[0])"
   ]
  },
  {
   "attachments": {},
   "cell_type": "markdown",
   "metadata": {},
   "source": [
    "Фильтрацию часто сочетают со статистическими методами. Давайте найдём максимальное количество комнат в таунхаусах. Так как в результате фильтрации получается DataFrame, то обратимся к нему по столбцу Rooms и найдём максимальное значение:"
   ]
  },
  {
   "cell_type": "code",
   "execution_count": null,
   "metadata": {},
   "outputs": [],
   "source": [
    "melb_data[melb_data['Type'] == 't']['Rooms'].max()"
   ]
  },
  {
   "attachments": {},
   "cell_type": "markdown",
   "metadata": {},
   "source": [
    "А теперь более сложный трюк: найдём медианную площадь здания у объектов, чья цена выше средней. Для того чтобы оградить наш код от нагромождений, предварительно создадим переменную со средней ценой:"
   ]
  },
  {
   "cell_type": "code",
   "execution_count": null,
   "metadata": {},
   "outputs": [],
   "source": [
    "mean_price = melb_data['Price'].mean()\n",
    "melb_data[melb_data['Price'] > mean_price]['BuildingArea'].median()"
   ]
  },
  {
   "cell_type": "code",
   "execution_count": null,
   "metadata": {},
   "outputs": [],
   "source": [
    "melb_data[melb_data['Bathroom'] == 0].shape[0] #Кол-во домов без ванных комнат"
   ]
  },
  {
   "cell_type": "code",
   "execution_count": null,
   "metadata": {},
   "outputs": [],
   "source": [
    "melb_data[(melb_data['SellerG'] == 'Nelson') & (melb_data['Price'] > 3000000)].shape[0]"
   ]
  },
  {
   "cell_type": "code",
   "execution_count": null,
   "metadata": {},
   "outputs": [],
   "source": [
    "melb_data[melb_data['BuildingArea'] == 0]['Price'].min()"
   ]
  },
  {
   "cell_type": "code",
   "execution_count": null,
   "metadata": {},
   "outputs": [],
   "source": [
    "melb_data[(melb_data['Price'] < 1000000) & ((melb_data['Rooms'] > 5) | (melb_data['YearBuilt'] > 2015))]['Price'].mean()"
   ]
  },
  {
   "cell_type": "code",
   "execution_count": null,
   "metadata": {},
   "outputs": [],
   "source": [
    "round(melb_data[(melb_data['Price']<1e6) & ((melb_data['Rooms']>5) | (melb_data['YearBuilt'] > 2015))]['Price'].mean())"
   ]
  },
  {
   "cell_type": "code",
   "execution_count": null,
   "metadata": {},
   "outputs": [],
   "source": [
    "melb_data[(melb_data['Price'] < 3e6) & (melb_data['Type'] == 'h')]['Regionname'].mode()"
   ]
  }
 ],
 "metadata": {
  "kernelspec": {
   "display_name": "Python 3",
   "language": "python",
   "name": "python3"
  },
  "language_info": {
   "codemirror_mode": {
    "name": "ipython",
    "version": 3
   },
   "file_extension": ".py",
   "mimetype": "text/x-python",
   "name": "python",
   "nbconvert_exporter": "python",
   "pygments_lexer": "ipython3",
   "version": "3.10.11"
  },
  "orig_nbformat": 4
 },
 "nbformat": 4,
 "nbformat_minor": 2
}
