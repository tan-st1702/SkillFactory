{
 "cells": [
  {
   "cell_type": "code",
   "execution_count": null,
   "metadata": {},
   "outputs": [],
   "source": [
    "import pandas as pd\n",
    "movies = pd.read_csv('data/movies.csv')\n",
    "ratings1 = pd.read_csv('data/ratings1.csv')\n",
    "ratings2 = pd.read_csv('data/ratings2.csv')\n",
    "dates = pd.read_csv('data/dates.csv')\n",
    "\n",
    "dates['date'] = pd.to_datetime(dates['date'])\n",
    "\n",
    "ratings = pd.concat(\n",
    "    [ratings1, ratings2],\n",
    "    ignore_index=True\n",
    "    )\n",
    "ratings = ratings.drop_duplicates(ignore_index=True)\n",
    "ratings_dates = pd.concat([ratings, dates], axis=1)\n"
   ]
  },
  {
   "cell_type": "code",
   "execution_count": null,
   "metadata": {},
   "outputs": [],
   "source": [
    "# Добавление к таблице ratings1 строк из таблицы ratings2 с заменой индексов:\n",
    "\n",
    "ratings = pd.concat(\n",
    "    [ratings1, ratings2],\n",
    "    ignore_index=True\n",
    "    )\n",
    "display(ratings)"
   ]
  },
  {
   "cell_type": "code",
   "execution_count": null,
   "metadata": {},
   "outputs": [],
   "source": [
    "# Чтобы очистить таблицу от дублей, мы можем воспользоваться методом DataFrame \n",
    "# drop_duplicates(), который удаляет повторяющиеся строки в таблице:\n",
    "\n",
    "ratings = ratings.drop_duplicates(ignore_index=True)\n",
    "print('Число строк в таблице ratings: ', ratings.shape[0])"
   ]
  },
  {
   "cell_type": "code",
   "execution_count": null,
   "metadata": {},
   "outputs": [],
   "source": [
    "# Наконец, мы можем добавить к нашей таблице с оценками даты их выставления. \n",
    "# Для этого конкатенируем таблицы ratings и dates по столбцам:\n",
    "\n",
    "ratings_dates = pd.concat([ratings, dates], axis=1)\n",
    "display(ratings_dates.tail(7))"
   ]
  },
  {
   "cell_type": "code",
   "execution_count": null,
   "metadata": {},
   "outputs": [],
   "source": [
    "df1 = pd.DataFrame({\"Name\": [\"Pankaj\", \"Lisa\"], \"Surname\": [\"Sobolev\", \"Krasnova\"]})\n",
    "df2 = pd.DataFrame({\"Role\": [\"Admin\", \"Editor\"]})\n",
    "display(df1)\n",
    "display(df2)"
   ]
  },
  {
   "cell_type": "code",
   "execution_count": null,
   "metadata": {},
   "outputs": [],
   "source": [
    "import os\n",
    "list1 = os.listdir('data')\n",
    "list1.sort()\n",
    "print(list1)"
   ]
  }
 ],
 "metadata": {
  "kernelspec": {
   "display_name": "Python 3",
   "language": "python",
   "name": "python3"
  },
  "language_info": {
   "codemirror_mode": {
    "name": "ipython",
    "version": 3
   },
   "file_extension": ".py",
   "mimetype": "text/x-python",
   "name": "python",
   "nbconvert_exporter": "python",
   "pygments_lexer": "ipython3",
   "version": "3.10.11"
  },
  "orig_nbformat": 4
 },
 "nbformat": 4,
 "nbformat_minor": 2
}
