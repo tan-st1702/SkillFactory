{
 "cells": [
  {
   "cell_type": "markdown",
   "metadata": {},
   "source": [
    "### ОТСЛЕЖИВАНИЕ СОСТОЯНИЯ"
   ]
  },
  {
   "cell_type": "markdown",
   "metadata": {},
   "source": [
    "Одно из классических предписаний для классов — у каждого из множества объектов есть некоторые меняющиеся состояния. \n",
    "\n",
    "Вернёмся к примеру: есть база клиентов с основной информацией; в реальном времени нам приходит информация о покупках. Запустим промокампанию, чтобы поощрить старых клиентов, которые сделали у нас много заказов, и выдать им скидку:"
   ]
  },
  {
   "cell_type": "code",
   "execution_count": null,
   "metadata": {},
   "outputs": [],
   "source": [
    "class Client():  \n",
    "    # Базовые данные  \n",
    "    def __init__(self, email, order_num, registration_year):  \n",
    "        self.email = email  \n",
    "        self.order_num = order_num  \n",
    "        self.registration_year = registration_year  \n",
    "        self.discount = 0  \n",
    "          \n",
    "    # Оформление заказа  \n",
    "    def make_order(self, price):  \n",
    "        self.update_discount()  \n",
    "        self.order_num += 1  \n",
    "        # Здесь было бы оформление заказа, но мы просто выведем его цену  \n",
    "        discounted_price = price * (1 - self.discount)   \n",
    "        print(f\"Order price for {self.email} is {discounted_price}\")  \n",
    "              \n",
    "    # Назначение скидки  \n",
    "    def update_discount(self):   \n",
    "        if self.registration_year < 2018 and self.order_num >= 5:  \n",
    "            self.discount = 0.1   \n",
    "              \n",
    "  \n",
    "# Применение  \n",
    "          \n",
    "# Сделаем подобие базы  \n",
    "client_db = [   \n",
    "    Client(\"max@gmail.com\", 2, 2019),  \n",
    "    Client(\"lova@yandex.ru\", 10, 2015),  \n",
    "    Client(\"german@sberbank.ru\", 4, 2017)  \n",
    "]  \n",
    "  \n",
    "  \n",
    "# Сгенерируем заказы  \n",
    "client_db[0].make_order(100)  \n",
    "# => Order price for max@gmail.com is 100  \n",
    "  \n",
    "client_db[1].make_order(200)  \n",
    "# => Order price for lova@yandex.ru is 180.0  \n",
    "  \n",
    "client_db[2].make_order(500)  \n",
    "# => Order price for german@sberbank.ru is 500  \n",
    "  \n",
    "client_db[2].make_order(500)  \n",
    "# => Order price for german@sberbank.ru is 450.0 "
   ]
  },
  {
   "cell_type": "markdown",
   "metadata": {},
   "source": [
    "**_Два важных момента:_**\n",
    "\n",
    "* У нас получился **_простой интерфейс_**. С функциями нам пришлось бы передавать много параметров или делать вложенный словарь.\n",
    "* В классах хорошо реализуется **_скрытая логика_** и естественное сохранение состояний. В примере на втором и четвёртом заказах автоматически появилась скидка."
   ]
  },
  {
   "cell_type": "markdown",
   "metadata": {},
   "source": [
    "_Задание 5.1._ Мы разрабатываем приложение, которое подразумевает функционал авторизации пользователя, а также управление его балансом на некотором виртуальном счете.\n",
    "\n",
    "Определите класс для пользователей User.\n",
    "\n",
    "У него должны быть:\n",
    "\n",
    "* атрибуты email, password и balance, которые устанавливаются при инициализации в методе __init__();\n",
    "* метод login(), который реализует проверку почты и пароля. Метод должен принимать в качестве аргументов емайл (email) и пароль (password). Если они совпадают с атрибутами объекта, он возвращает True, а иначе — False;\n",
    "* метод update_balance(), который должен принимать в качестве аргумента amount некоторое число и изменять текущий баланс счёта (атрибут balance) на величину amount."
   ]
  },
  {
   "cell_type": "code",
   "execution_count": 2,
   "metadata": {},
   "outputs": [
    {
     "name": "stdout",
     "output_type": "stream",
     "text": [
      "False\n",
      "True\n",
      "19700\n"
     ]
    }
   ],
   "source": [
    "class User():\n",
    "    def __init__(self, email, password, balance) -> None:\n",
    "        self.email = email\n",
    "        self.password = password\n",
    "        self.balance = balance\n",
    "        \n",
    "    def login(self, email, password):\n",
    "        if (self.email == email) & (self.password == password):\n",
    "            return True\n",
    "        else:\n",
    "            return False\n",
    "        \n",
    "    def update_balance(self, amount):\n",
    "        self.balance += amount\n",
    "        \n",
    "user = User(\"gosha@roskino.org\", \"qwerty\", 20_000)\n",
    "print(user.login(\"gosha@roskino.org\", \"qwerty123\"))\n",
    "# False\n",
    "print(user.login(\"gosha@roskino.org\", \"qwerty\"))\n",
    "# True\n",
    "user.update_balance(200)\n",
    "user.update_balance(-500)\n",
    "print(user.balance)\n",
    "# 19700"
   ]
  },
  {
   "cell_type": "markdown",
   "metadata": {},
   "source": [
    "### КОМБИНАЦИЯ ОПЕРАЦИЙ"
   ]
  },
  {
   "cell_type": "markdown",
   "metadata": {},
   "source": [
    "Классы могут пригодиться, если вы регулярно делаете над данными **_одну и ту же последовательность разноплановых функций_**. Вы можете упаковать их в класс и в дальнейшем сразу получать результат по загруженным данным."
   ]
  },
  {
   "cell_type": "markdown",
   "metadata": {},
   "source": [
    "У нас есть численные данные из разных источников. Если они в виде строк, то нужно привести их к числам, а пропуски — заполнить значениями. Сделаем доступ к медиане, среднему значению и стандартному отклонению:"
   ]
  },
  {
   "cell_type": "code",
   "execution_count": 5,
   "metadata": {},
   "outputs": [
    {
     "name": "stdout",
     "output_type": "stream",
     "text": [
      "[1.0, 17.0, 4.0, 0.0, 8.0]\n",
      "<enumerate object at 0x000001E27789DFC0>\n",
      "6.892024376045111\n",
      "4.0\n"
     ]
    }
   ],
   "source": [
    "import statistics  \n",
    "  \n",
    "class DataFrame():  \n",
    "    def __init__(self, column, fill_value=0):  \n",
    "        # Инициализируем атрибуты  \n",
    "        self.column = column  \n",
    "        self.fill_value = fill_value  \n",
    "        # Заполним пропуски  \n",
    "        self.fill_missed()  \n",
    "        # Конвертируем все элементы в числа  \n",
    "        self.to_float()  \n",
    "          \n",
    "    def fill_missed(self):  \n",
    "        for i, value in enumerate(self.column):  \n",
    "            if value is None or value == '':  \n",
    "                self.column[i] = self.fill_value  \n",
    "                  \n",
    "    def to_float(self):  \n",
    "        self.column = [float(value) for value in self.column]  \n",
    "      \n",
    "    def median(self):  \n",
    "        return statistics.median(self.column)  \n",
    "      \n",
    "    def mean(self):  \n",
    "        return statistics.mean(self.column)  \n",
    "      \n",
    "    def deviation(self):  \n",
    "        return statistics.stdev(self.column)  \n",
    "      \n",
    "  \n",
    "      \n",
    "# Воспользуемся классом  \n",
    "df = DataFrame([\"1\", 17, 4, None, 8])  \n",
    "  \n",
    "print(df.column)  \n",
    "# => [1.0, 17.0, 4.0, 0.0, 8.0]  \n",
    "print(df.deviation())  \n",
    "# => 6.89  \n",
    "print(df.median())  \n",
    "# => 4.0  "
   ]
  },
  {
   "cell_type": "markdown",
   "metadata": {},
   "source": [
    "Мы получили очень лаконичный интерфейс для использования класса. В __init__ мы использовали значение по умолчанию для fill_value, а методы позволяют нам определять необязательные параметры."
   ]
  },
  {
   "cell_type": "markdown",
   "metadata": {},
   "source": [
    "_Задание 5.2._ Определите класс IntDataFrame, который в момент инициализации объектов принимает список неотрицательных чисел и приводит к целым значениям все числа в этом списке, отрезая дробную часть с помощью встроенной функции int().\n",
    "\n",
    "Результирующий список должен быть сохранен в виде атрибута с именем column.\n",
    "\n",
    "Также класс должен содержать следующие методы:\n",
    "\n",
    "* count(), который возвращает количество ненулевых элементов в списке column;\n",
    "\n",
    "* unique(), который возвращает число уникальных элементов в списке в списке column."
   ]
  },
  {
   "cell_type": "code",
   "execution_count": 7,
   "metadata": {},
   "outputs": [
    {
     "name": "stdout",
     "output_type": "stream",
     "text": [
      "[4, 4, 3, 0, 2, 0, 4]\n",
      "5\n",
      "4\n"
     ]
    }
   ],
   "source": [
    "class IntDataFrame():\n",
    "    def __init__(self, column) -> None:\n",
    "        self.column = column\n",
    "        self.round_column()\n",
    "    \n",
    "    def round_column(self):\n",
    "        for i, value in enumerate(self.column):\n",
    "            self.column[i] = int(value)\n",
    "    \n",
    "    def count(self):\n",
    "        res = 0\n",
    "        for value in self.column:\n",
    "            if value != 0:\n",
    "                res += 1\n",
    "        return res\n",
    "\n",
    "    def unique(self):\n",
    "        return len(set(self.column))\n",
    "        \n",
    "df = IntDataFrame([4.7, 4, 3, 0, 2.4, 0.3, 4])\n",
    "\n",
    "print(df.column)\n",
    "# [4, 4, 3, 0, 2, 0, 4]\n",
    "\n",
    "print(df.count())\n",
    "# 5\n",
    "\n",
    "print(df.unique())\n",
    "# 4"
   ]
  },
  {
   "cell_type": "markdown",
   "metadata": {},
   "source": [
    "### КЛАСС-ОБЁРТКА "
   ]
  },
  {
   "cell_type": "markdown",
   "metadata": {},
   "source": [
    "Классы можно использовать тогда, когда у вас есть процесс, который требует сложной конфигурации, повторяющейся из раза в раз. Можно написать **класс-обёртку**, который сведёт этот процесс к одному-двум методам."
   ]
  },
  {
   "cell_type": "markdown",
   "metadata": {},
   "source": [
    "Представим, вы делаете обработку данных и в конце каждого дня сохраняете результат в архив. Вы хотите, чтобы данные каждого дня лежали в отдельном файле для этого дня, при этом можно было бы получить данные за произвольный день. \n",
    "\n",
    "Перед запуском кода создайте папку с названием archive там же, где находится ноутбук:"
   ]
  },
  {
   "cell_type": "code",
   "execution_count": 10,
   "metadata": {},
   "outputs": [
    {
     "name": "stdout",
     "output_type": "stream",
     "text": [
      "{'perfomance': [10, 20, 10], 'clients': {'Romashka': 10, 'Vector': 34}}\n"
     ]
    }
   ],
   "source": [
    "import pickle  \n",
    "from datetime import datetime  \n",
    "from os import path  \n",
    "  \n",
    "class Dumper():  \n",
    "    def __init__(self, archive_dir=\"archive/\"):  \n",
    "        self.archive_dir = archive_dir  \n",
    "          \n",
    "    def dump(self, data):  \n",
    "        # Библиотека pickle позволяет доставать и класть объекты в файл  \n",
    "        with open(self.get_file_name(), 'wb') as file:  \n",
    "            pickle.dump(data, file)  \n",
    "              \n",
    "    def load_for_day(self, day):  \n",
    "        file_name = path.join(self.archive_dir, day + \".pkl\")   \n",
    "        with open(file_name, 'rb') as file:  \n",
    "            sets = pickle.load(file)  \n",
    "        return sets  \n",
    "          \n",
    "    # возвращает корректное имя для файла   \n",
    "    def get_file_name(self):   \n",
    "        today = datetime.now().strftime(\"%y-%m-%d\")   \n",
    "        return path.join(self.archive_dir, today + \".pkl\")  \n",
    "      \n",
    "      \n",
    "# Пример использования  \n",
    "  \n",
    "data = {  \n",
    "    'perfomance': [10, 20, 10],  \n",
    "    'clients': {\"Romashka\": 10, \"Vector\": 34}  \n",
    "}  \n",
    "  \n",
    "  \n",
    "dumper = Dumper()  \n",
    "  \n",
    "# Сохраним данные  \n",
    "dumper.dump(data)  \n",
    "  \n",
    "# Восстановим для сегодняшней даты  \n",
    "file_name = datetime.now().strftime(\"%y-%m-%d\")\n",
    "restored_data = dumper.load_for_day(file_name)\n",
    "print(restored_data)  \n",
    "# => {'perfomance': [10, 20, 10], 'clients': {'Romashka': 10, 'Vector': 34}}  "
   ]
  },
  {
   "cell_type": "code",
   "execution_count": 19,
   "metadata": {},
   "outputs": [
    {
     "name": "stdout",
     "output_type": "stream",
     "text": [
      "None\n",
      "None\n",
      "System started\n"
     ]
    }
   ],
   "source": [
    "class OwnLogger():\n",
    "    def __init__(self) -> None:\n",
    "        self.logs = {\"info\": None, \"warning\": None, \"error\": None, \"all\": None}\n",
    "                \n",
    "    def log(self, message, level='all'):\n",
    "        self.logs[level] = message\n",
    "    \n",
    "    def show_last(self, level='all'):\n",
    "        print(self.logs[level])\n",
    "    \n",
    "    \n",
    "logger = OwnLogger()\n",
    "logger.log(\"System started\", \"info\")\n",
    "logger.show_last(\"error\")\n",
    "# None\n",
    "# Некоторые интерпретаторы Python могут не выводить None, тогда в этой проверке у вас будет пустая строка\n",
    "logger.log(\"Connection instable\", \"warning\")\n",
    "logger.log(\"Connection lost\", \"error\")\n",
    "\n",
    "logger.show_last()\n",
    "# Connection lost\n",
    "logger.show_last(\"info\")\n",
    "# System started"
   ]
  },
  {
   "cell_type": "markdown",
   "metadata": {},
   "source": [
    "### ИМПОРТ И ОРГАНИЗАЦИЯ КОДА"
   ]
  },
  {
   "cell_type": "markdown",
   "metadata": {},
   "source": [
    "Классы, как и библиотечные функции, можно **импортировать** в другие программы. Для этого нужно положить класс в отдельный файл в корне проекта и использовать ключевое слово **import**. "
   ]
  },
  {
   "cell_type": "markdown",
   "metadata": {},
   "source": [
    "Например, если мы положим **Dumper** в файл dumper.py в корне проекта, то его можно импортировать командой:"
   ]
  },
  {
   "cell_type": "code",
   "execution_count": null,
   "metadata": {},
   "outputs": [],
   "source": [
    "# from helpers.dumper import Dumper"
   ]
  },
  {
   "cell_type": "code",
   "execution_count": 38,
   "metadata": {},
   "outputs": [
    {
     "name": "stdout",
     "output_type": "stream",
     "text": [
      "Bark!\n"
     ]
    }
   ],
   "source": [
    "class Dog():\n",
    "    def bark(self,arg):\n",
    "        return 'Bark!'\n",
    "    \n",
    "    def give_paw(self,arg):\n",
    "        return 'Paw'\n",
    "\n",
    "print(Dog().bark(['Бим']))"
   ]
  }
 ],
 "metadata": {
  "kernelspec": {
   "display_name": "Python 3",
   "language": "python",
   "name": "python3"
  },
  "language_info": {
   "codemirror_mode": {
    "name": "ipython",
    "version": 3
   },
   "file_extension": ".py",
   "mimetype": "text/x-python",
   "name": "python",
   "nbconvert_exporter": "python",
   "pygments_lexer": "ipython3",
   "version": "3.10.11"
  }
 },
 "nbformat": 4,
 "nbformat_minor": 2
}
